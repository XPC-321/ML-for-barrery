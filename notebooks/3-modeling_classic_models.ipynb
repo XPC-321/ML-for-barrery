{
 "cells": [
  {
   "cell_type": "markdown",
   "metadata": {},
   "source": [
    "# Data Featurization"
   ]
  },
  {
   "cell_type": "markdown",
   "metadata": {},
   "source": [
    "Here, we will show some simple examples of featurizing materials composition data using so-called \"composition-based feature vectors\", or CBFVs. This methods represents a single chemical formula as one vector based on its constituent atoms' chemical properties (refer to the paper for more information and references).\n",
    "\n",
    "Note that the steps shown in this notebook are intended to demonstrate the best practices associated with featurizing materials data, using *one* way of featurizing materials composition data as an example. \n",
    "Depending on your input data and your particular modeling needs, the data featurization method and procedure you use may be different than the example shown here."
   ]
  },
  {
   "cell_type": "code",
   "execution_count": 1,
   "metadata": {},
   "outputs": [],
   "source": [
    "import os\n",
    "import numpy as np\n",
    "import pandas as pd\n",
    "import matplotlib.pyplot as plt\n",
    "%matplotlib inline\n",
    "%config InlineBackend.figure_format='retina'\n",
    "\n",
    "from collections import OrderedDict\n",
    "\n",
    "# Set a random seed to ensure reproducibility across runs\n",
    "RNG_SEED = 42\n",
    "np.random.seed(RNG_SEED)"
   ]
  },
  {
   "cell_type": "markdown",
   "metadata": {},
   "source": [
    "## Loading data\n",
    "\n",
    "We will start with the dataset splits that we saved from the last notebook."
   ]
  },
  {
   "cell_type": "code",
   "execution_count": 2,
   "metadata": {},
   "outputs": [
    {
     "name": "stdout",
     "output_type": "stream",
     "text": [
      "df_train DataFrame shape: (3214, 3)\n",
      "df_val DataFrame shape: (980, 3)\n",
      "df_test DataFrame shape: (370, 3)\n"
     ]
    }
   ],
   "source": [
    "PATH = os.getcwd()\n",
    "train_path = os.path.join(PATH, '../data/cp_train.csv')\n",
    "val_path = os.path.join(PATH, '../data/cp_val.csv')\n",
    "test_path = os.path.join(PATH, '../data/cp_test.csv')\n",
    "\n",
    "df_train = pd.read_csv(train_path)\n",
    "df_val = pd.read_csv(val_path)\n",
    "df_test = pd.read_csv(test_path)\n",
    "\n",
    "print(f'df_train DataFrame shape: {df_train.shape}')\n",
    "print(f'df_val DataFrame shape: {df_val.shape}')\n",
    "print(f'df_test DataFrame shape: {df_test.shape}')"
   ]
  },
  {
   "cell_type": "markdown",
   "metadata": {},
   "source": [
    "## Sub-sampling your data (optional)\n",
    "\n",
    "If your dataset is too large, you can subsample it to be a smaller size.\n",
    "This is useful for prototyping and for making quick sanity tests of new models / parameters.\n",
    "\n",
    "Just be aware that you do not introduce any bias into your data through the sampling."
   ]
  },
  {
   "cell_type": "code",
   "execution_count": 3,
   "metadata": {},
   "outputs": [
    {
     "name": "stdout",
     "output_type": "stream",
     "text": [
      "df_train_sampled DataFrame shape: (2000, 3)\n",
      "df_val_sampled DataFrame shape: (200, 3)\n",
      "df_test_sampled DataFrame shape: (200, 3)\n"
     ]
    }
   ],
   "source": [
    "# Sub-sample the data. Set the random_state to make the sampling reproducible every time.\n",
    "df_train_sampled = df_train.sample(n=2000, random_state=RNG_SEED)\n",
    "df_val_sampled = df_val.sample(n=200, random_state=RNG_SEED)\n",
    "df_test_sampled = df_test.sample(n=200, random_state=RNG_SEED)\n",
    "\n",
    "print(f'df_train_sampled DataFrame shape: {df_train_sampled.shape}')\n",
    "print(f'df_val_sampled DataFrame shape: {df_val_sampled.shape}')\n",
    "print(f'df_test_sampled DataFrame shape: {df_test_sampled.shape}')"
   ]
  },
  {
   "cell_type": "markdown",
   "metadata": {},
   "source": [
    "## Generate features using the `CBFV` package\n",
    "\n",
    "To featurize the chemical compositions from a chemical formula (e.g. \"Al2O3\") into a composition-based feature vector (CBFV), we use the open-source [`CBFV` package](https://github.com/kaaiian/CBFV).\n",
    "\n",
    "We have downloaded and saved a local copy of the package into this repository for your convenience.\n",
    "For the most updated version, refer to the GitHub repository linked above."
   ]
  },
  {
   "cell_type": "code",
   "execution_count": 1,
   "metadata": {},
   "outputs": [],
   "source": [
    "# Import the package and the generate_features function\n",
    "from CBFV.cbfv.composition import generate_features"
   ]
  },
  {
   "cell_type": "markdown",
   "metadata": {},
   "source": [
    "The `generate_features` function from the CBFV package expects an input DataFrame containing at least the columns `['formula', 'target']`. You may also have extra feature columns (e.g., `temperature` or `pressure`, other measurement conditions, etc.).\n",
    "\n",
    "In our dataset, `Cp` represents the target variable, and `T` is the measurement condition.\n",
    "Since the `generate_features` function expects the target variable column to be named `target`, we have to rename the `Cp` column."
   ]
  },
  {
   "cell_type": "code",
   "execution_count": 5,
   "metadata": {},
   "outputs": [
    {
     "name": "stdout",
     "output_type": "stream",
     "text": [
      "DataFrame column names before renaming:\n",
      "Index(['formula', 'T', 'Cp'], dtype='object')\n",
      "Index(['formula', 'T', 'Cp'], dtype='object')\n",
      "Index(['formula', 'T', 'Cp'], dtype='object')\n",
      "\n",
      "DataFrame column names after renaming:\n",
      "Index(['formula', 'T', 'target'], dtype='object')\n",
      "Index(['formula', 'T', 'target'], dtype='object')\n",
      "Index(['formula', 'T', 'target'], dtype='object')\n"
     ]
    }
   ],
   "source": [
    "print('DataFrame column names before renaming:')\n",
    "print(df_train.columns)\n",
    "print(df_val.columns)\n",
    "print(df_test.columns)\n",
    "\n",
    "rename_dict = {'Cp': 'target'}\n",
    "df_train = df_train.rename(columns=rename_dict)\n",
    "df_val = df_val.rename(columns=rename_dict)\n",
    "df_test = df_test.rename(columns=rename_dict)\n",
    "\n",
    "df_train_sampled = df_train_sampled.rename(columns=rename_dict)\n",
    "df_val_sampled = df_val_sampled.rename(columns=rename_dict)\n",
    "df_test_sampled = df_test_sampled.rename(columns=rename_dict)\n",
    "\n",
    "print('\\nDataFrame column names after renaming:')\n",
    "print(df_train.columns)\n",
    "print(df_val.columns)\n",
    "print(df_test.columns)"
   ]
  },
  {
   "cell_type": "markdown",
   "metadata": {},
   "source": [
    "Now we can use the `generate_features` function to generate the CBFVs from the input data.\n",
    "\n",
    "Note that we have specified several keyword arguments in our call to `generate_features`:\n",
    "* `elem_prop='oliynyk'`\n",
    "* `drop_duplicates=False`\n",
    "* `extend_features=True`\n",
    "* `sum_feat=True`\n",
    "\n",
    "A short explanation for the choice of keyword arguments is below:\n",
    "* The `elem_prop` parameter specifies which CBFV featurization scheme to use (there are several). For this tutorial, we have chosen to use the `oliynyk` CBFV featurization scheme.\n",
    "* The `drop_duplicates` parameter specifies whether to drop duplicate formulae during featurization. In our case, we want to preserve duplicate formulae in our data (`True`), since we have multiple heat capacity measurements (performed at different temperatures) for the same compound.\n",
    "* The `extend_features` parameter specifies whether to include extended features (features that are not part of `['formula', 'target']`) in the featurized data. In our case, this is our measurement temperature, and we want to include this information (`True`), since this is pertinent information for the heat capacity prediction.\n",
    "* The `sum_feat` parameter specifies whether to calculate the sum features when generating the CBFVs for the chemical formulae. We do in our case (`True`).\n",
    "\n",
    "For more information about the `generate_features` function and the CBFV featurization scheme, refer to the GitHub repository and the accompanying paper to this notebook."
   ]
  },
  {
   "cell_type": "code",
   "execution_count": 6,
   "metadata": {},
   "outputs": [
    {
     "name": "stderr",
     "output_type": "stream",
     "text": [
      "Processing Input Data: 100%|████████████████████████████████████████████████████| 2000/2000 [00:00<00:00, 27852.38it/s]\n",
      "Assigning Features...:   0%|                                                                  | 0/2000 [00:00<?, ?it/s]"
     ]
    },
    {
     "name": "stdout",
     "output_type": "stream",
     "text": [
      "\tFeaturizing Compositions...\n"
     ]
    },
    {
     "name": "stderr",
     "output_type": "stream",
     "text": [
      "Assigning Features...: 100%|████████████████████████████████████████████████████| 2000/2000 [00:00<00:00, 22532.15it/s]\n",
      "Processing Input Data: 100%|██████████████████████████████████████████████████████| 200/200 [00:00<00:00, 25067.56it/s]\n",
      "Assigning Features...: 100%|██████████████████████████████████████████████████████| 200/200 [00:00<00:00, 22281.68it/s]\n",
      "Processing Input Data:   0%|                                                                   | 0/200 [00:00<?, ?it/s]"
     ]
    },
    {
     "name": "stdout",
     "output_type": "stream",
     "text": [
      "\tCreating Pandas Objects...\n",
      "\tFeaturizing Compositions...\n",
      "\tCreating Pandas Objects...\n"
     ]
    },
    {
     "name": "stderr",
     "output_type": "stream",
     "text": [
      "Processing Input Data: 100%|██████████████████████████████████████████████████████| 200/200 [00:00<00:00, 22169.21it/s]\n",
      "Assigning Features...: 100%|██████████████████████████████████████████████████████| 200/200 [00:00<00:00, 20000.50it/s]"
     ]
    },
    {
     "name": "stdout",
     "output_type": "stream",
     "text": [
      "\tFeaturizing Compositions...\n",
      "\tCreating Pandas Objects...\n"
     ]
    },
    {
     "name": "stderr",
     "output_type": "stream",
     "text": [
      "\n"
     ]
    }
   ],
   "source": [
    "X_train_unscaled, y_train, formulae_train, skipped_train = generate_features(df_train_sampled, elem_prop='oliynyk', drop_duplicates=False, extend_features=True, sum_feat=True)\n",
    "X_val_unscaled, y_val, formulae_val, skipped_val = generate_features(df_val_sampled, elem_prop='oliynyk', drop_duplicates=False, extend_features=True, sum_feat=True)\n",
    "X_test_unscaled, y_test, formulae_test, skipped_test = generate_features(df_test_sampled, elem_prop='oliynyk', drop_duplicates=False, extend_features=True, sum_feat=True)"
   ]
  },
  {
   "cell_type": "markdown",
   "metadata": {},
   "source": [
    "To see what a featurized X matrix looks like, `.head()` will show us some rows:"
   ]
  },
  {
   "cell_type": "code",
   "execution_count": 7,
   "metadata": {},
   "outputs": [
    {
     "data": {
      "text/html": [
       "<div>\n",
       "<style scoped>\n",
       "    .dataframe tbody tr th:only-of-type {\n",
       "        vertical-align: middle;\n",
       "    }\n",
       "\n",
       "    .dataframe tbody tr th {\n",
       "        vertical-align: top;\n",
       "    }\n",
       "\n",
       "    .dataframe thead th {\n",
       "        text-align: right;\n",
       "    }\n",
       "</style>\n",
       "<table border=\"1\" class=\"dataframe\">\n",
       "  <thead>\n",
       "    <tr style=\"text-align: right;\">\n",
       "      <th></th>\n",
       "      <th>sum_Atomic_Number</th>\n",
       "      <th>sum_Atomic_Weight</th>\n",
       "      <th>sum_Period</th>\n",
       "      <th>sum_group</th>\n",
       "      <th>sum_families</th>\n",
       "      <th>sum_Metal</th>\n",
       "      <th>sum_Nonmetal</th>\n",
       "      <th>sum_Metalliod</th>\n",
       "      <th>sum_Mendeleev_Number</th>\n",
       "      <th>sum_l_quantum_number</th>\n",
       "      <th>...</th>\n",
       "      <th>range_Melting_point_(K)</th>\n",
       "      <th>range_Boiling_Point_(K)</th>\n",
       "      <th>range_Density_(g/mL)</th>\n",
       "      <th>range_specific_heat_(J/g_K)_</th>\n",
       "      <th>range_heat_of_fusion_(kJ/mol)_</th>\n",
       "      <th>range_heat_of_vaporization_(kJ/mol)_</th>\n",
       "      <th>range_thermal_conductivity_(W/(m_K))_</th>\n",
       "      <th>range_heat_atomization(kJ/mol)</th>\n",
       "      <th>range_Cohesive_energy</th>\n",
       "      <th>T</th>\n",
       "    </tr>\n",
       "  </thead>\n",
       "  <tbody>\n",
       "    <tr>\n",
       "      <th>0</th>\n",
       "      <td>32.0</td>\n",
       "      <td>65.116040</td>\n",
       "      <td>8.0</td>\n",
       "      <td>30.0</td>\n",
       "      <td>15.0</td>\n",
       "      <td>1.0</td>\n",
       "      <td>2.0</td>\n",
       "      <td>0.0</td>\n",
       "      <td>162.0</td>\n",
       "      <td>2.0</td>\n",
       "      <td>...</td>\n",
       "      <td>2.642621e+06</td>\n",
       "      <td>4.742507e+06</td>\n",
       "      <td>0.858492</td>\n",
       "      <td>0.021622</td>\n",
       "      <td>2388.183171</td>\n",
       "      <td>22965.815879</td>\n",
       "      <td>3091.366423</td>\n",
       "      <td>66594.888889</td>\n",
       "      <td>7.034755</td>\n",
       "      <td>600.0</td>\n",
       "    </tr>\n",
       "    <tr>\n",
       "      <th>1</th>\n",
       "      <td>28.0</td>\n",
       "      <td>53.491200</td>\n",
       "      <td>9.0</td>\n",
       "      <td>36.0</td>\n",
       "      <td>43.0</td>\n",
       "      <td>0.0</td>\n",
       "      <td>6.0</td>\n",
       "      <td>0.0</td>\n",
       "      <td>544.0</td>\n",
       "      <td>2.0</td>\n",
       "      <td>...</td>\n",
       "      <td>4.363940e+03</td>\n",
       "      <td>8.544527e+03</td>\n",
       "      <td>0.000002</td>\n",
       "      <td>40.816697</td>\n",
       "      <td>1.696930</td>\n",
       "      <td>17.270367</td>\n",
       "      <td>0.006030</td>\n",
       "      <td>22037.555556</td>\n",
       "      <td>4.284089</td>\n",
       "      <td>457.7</td>\n",
       "    </tr>\n",
       "    <tr>\n",
       "      <th>2</th>\n",
       "      <td>46.0</td>\n",
       "      <td>98.887792</td>\n",
       "      <td>14.0</td>\n",
       "      <td>72.0</td>\n",
       "      <td>36.0</td>\n",
       "      <td>3.0</td>\n",
       "      <td>4.0</td>\n",
       "      <td>0.0</td>\n",
       "      <td>441.0</td>\n",
       "      <td>4.0</td>\n",
       "      <td>...</td>\n",
       "      <td>4.009057e+05</td>\n",
       "      <td>1.662798e+06</td>\n",
       "      <td>0.601941</td>\n",
       "      <td>1.321867</td>\n",
       "      <td>10.138486</td>\n",
       "      <td>13933.526946</td>\n",
       "      <td>6716.921700</td>\n",
       "      <td>10368.666667</td>\n",
       "      <td>1.070067</td>\n",
       "      <td>300.0</td>\n",
       "    </tr>\n",
       "    <tr>\n",
       "      <th>3</th>\n",
       "      <td>20.0</td>\n",
       "      <td>41.988171</td>\n",
       "      <td>5.0</td>\n",
       "      <td>18.0</td>\n",
       "      <td>9.0</td>\n",
       "      <td>1.0</td>\n",
       "      <td>1.0</td>\n",
       "      <td>0.0</td>\n",
       "      <td>95.0</td>\n",
       "      <td>1.0</td>\n",
       "      <td>...</td>\n",
       "      <td>2.521744e+04</td>\n",
       "      <td>2.868138e+05</td>\n",
       "      <td>0.234886</td>\n",
       "      <td>0.042025</td>\n",
       "      <td>1.372178</td>\n",
       "      <td>2194.463394</td>\n",
       "      <td>4968.283245</td>\n",
       "      <td>225.000000</td>\n",
       "      <td>0.018632</td>\n",
       "      <td>2800.0</td>\n",
       "    </tr>\n",
       "    <tr>\n",
       "      <th>4</th>\n",
       "      <td>82.0</td>\n",
       "      <td>207.200000</td>\n",
       "      <td>6.0</td>\n",
       "      <td>14.0</td>\n",
       "      <td>5.0</td>\n",
       "      <td>1.0</td>\n",
       "      <td>0.0</td>\n",
       "      <td>0.0</td>\n",
       "      <td>81.0</td>\n",
       "      <td>1.0</td>\n",
       "      <td>...</td>\n",
       "      <td>0.000000e+00</td>\n",
       "      <td>0.000000e+00</td>\n",
       "      <td>0.000000</td>\n",
       "      <td>0.000000</td>\n",
       "      <td>0.000000</td>\n",
       "      <td>0.000000</td>\n",
       "      <td>0.000000</td>\n",
       "      <td>0.000000</td>\n",
       "      <td>0.000000</td>\n",
       "      <td>1400.0</td>\n",
       "    </tr>\n",
       "  </tbody>\n",
       "</table>\n",
       "<p>5 rows × 177 columns</p>\n",
       "</div>"
      ],
      "text/plain": [
       "   sum_Atomic_Number  sum_Atomic_Weight  sum_Period  sum_group  sum_families  \\\n",
       "0               32.0          65.116040         8.0       30.0          15.0   \n",
       "1               28.0          53.491200         9.0       36.0          43.0   \n",
       "2               46.0          98.887792        14.0       72.0          36.0   \n",
       "3               20.0          41.988171         5.0       18.0           9.0   \n",
       "4               82.0         207.200000         6.0       14.0           5.0   \n",
       "\n",
       "   sum_Metal  sum_Nonmetal  sum_Metalliod  sum_Mendeleev_Number  \\\n",
       "0        1.0           2.0            0.0                 162.0   \n",
       "1        0.0           6.0            0.0                 544.0   \n",
       "2        3.0           4.0            0.0                 441.0   \n",
       "3        1.0           1.0            0.0                  95.0   \n",
       "4        1.0           0.0            0.0                  81.0   \n",
       "\n",
       "   sum_l_quantum_number  ...  range_Melting_point_(K)  \\\n",
       "0                   2.0  ...             2.642621e+06   \n",
       "1                   2.0  ...             4.363940e+03   \n",
       "2                   4.0  ...             4.009057e+05   \n",
       "3                   1.0  ...             2.521744e+04   \n",
       "4                   1.0  ...             0.000000e+00   \n",
       "\n",
       "   range_Boiling_Point_(K)  range_Density_(g/mL)  \\\n",
       "0             4.742507e+06              0.858492   \n",
       "1             8.544527e+03              0.000002   \n",
       "2             1.662798e+06              0.601941   \n",
       "3             2.868138e+05              0.234886   \n",
       "4             0.000000e+00              0.000000   \n",
       "\n",
       "   range_specific_heat_(J/g_K)_  range_heat_of_fusion_(kJ/mol)_  \\\n",
       "0                      0.021622                     2388.183171   \n",
       "1                     40.816697                        1.696930   \n",
       "2                      1.321867                       10.138486   \n",
       "3                      0.042025                        1.372178   \n",
       "4                      0.000000                        0.000000   \n",
       "\n",
       "   range_heat_of_vaporization_(kJ/mol)_  \\\n",
       "0                          22965.815879   \n",
       "1                             17.270367   \n",
       "2                          13933.526946   \n",
       "3                           2194.463394   \n",
       "4                              0.000000   \n",
       "\n",
       "   range_thermal_conductivity_(W/(m_K))_  range_heat_atomization(kJ/mol)  \\\n",
       "0                            3091.366423                    66594.888889   \n",
       "1                               0.006030                    22037.555556   \n",
       "2                            6716.921700                    10368.666667   \n",
       "3                            4968.283245                      225.000000   \n",
       "4                               0.000000                        0.000000   \n",
       "\n",
       "   range_Cohesive_energy       T  \n",
       "0               7.034755   600.0  \n",
       "1               4.284089   457.7  \n",
       "2               1.070067   300.0  \n",
       "3               0.018632  2800.0  \n",
       "4               0.000000  1400.0  \n",
       "\n",
       "[5 rows x 177 columns]"
      ]
     },
     "execution_count": 7,
     "metadata": {},
     "output_type": "execute_result"
    }
   ],
   "source": [
    "X_train_unscaled.head()"
   ]
  },
  {
   "cell_type": "code",
   "execution_count": 8,
   "metadata": {},
   "outputs": [
    {
     "data": {
      "text/plain": [
       "(2000, 177)"
      ]
     },
     "execution_count": 8,
     "metadata": {},
     "output_type": "execute_result"
    }
   ],
   "source": [
    "X_train_unscaled.shape"
   ]
  },
  {
   "cell_type": "markdown",
   "metadata": {},
   "source": [
    "Note the `sum` features in the CBFV, which we have included by using `sum_feat=True` in the call to `generate_features`.\n",
    "\n",
    "Also note the temperature column `T` at the end of this featurized data.\n",
    "\n",
    "What we have done above is featurize the input data. In the featurized data, each row contains a unique CBFV that describes a given chemical composition."
   ]
  },
  {
   "cell_type": "markdown",
   "metadata": {},
   "source": [
    "## Data scaling & normalization\n",
    "\n",
    "For numerical input data, scaling and normalization of the features often improves the model performance.\n",
    "Scaling can partially correct the discrepancy between the orders of magnitudes of the features (e.g., some numerical features being much larger or smaller than others).\n",
    "This typically improves the model learning performance, and in turn, improves the model performance.\n",
    "\n",
    "We will scale then normalize our input data using scikit-learn's built-in `StandardScaler` class and `normalize` function.\n",
    "\n",
    "Note, in addition to `StandardScaler`, other scalers such as `RobustScaler` and `MinMaxScaler` are also available in scikit-learn. Consult the documentation for the details and when to use them."
   ]
  },
  {
   "cell_type": "code",
   "execution_count": 2,
   "metadata": {},
   "outputs": [],
   "source": [
    "from sklearn.preprocessing import StandardScaler\n",
    "from sklearn.preprocessing import normalize"
   ]
  },
  {
   "cell_type": "markdown",
   "metadata": {},
   "source": [
    "## Scaling the data\n",
    "\n",
    "First, we instantiate the scaler object.\n",
    "\n",
    "In a `StandardScaler` object:\n",
    "* During the `fit` process, the statistics of the input data (mean and standard deviation) are computed.\n",
    "* Then, during the `transform` process, the mean and standard deviation values calculated above are used to scale the data to having zero-mean and unit variance.\n",
    "\n",
    "Therefore, for the first time usage of the scaler, we call the `.fit_transform()` method to fit the scaler to the input data, and then to transform the same data.\n",
    "For subsequent uses, since we have already computed the statistics, we only call the `.transform()` method to scale data.\n",
    "\n",
    "**Note:** you should *only* `.fit()` the scaler using the training dataset statistics, and then use these same statistics from the training dataset to `.transform()` the other datasets (validation and train)."
   ]
  },
  {
   "cell_type": "code",
   "execution_count": 10,
   "metadata": {},
   "outputs": [],
   "source": [
    "scaler = StandardScaler()\n",
    "\n",
    "X_train = scaler.fit_transform(X_train_unscaled)\n",
    "X_val = scaler.transform(X_val_unscaled)\n",
    "X_test = scaler.transform(X_test_unscaled)"
   ]
  },
  {
   "cell_type": "markdown",
   "metadata": {},
   "source": [
    "## Normalizing the scaled data\n",
    "\n",
    "We repeat a similar process for normalizing the data.\n",
    "Here, there is no need to first fit the normalizer, since the normalizer scales the rows of the input data to unit norm independently of other rows.\n",
    "\n",
    "The normalizer is different to a Scaler in that the normalizer acts row-wise, whereas a Scaler acts column-wise on the input data."
   ]
  },
  {
   "cell_type": "code",
   "execution_count": 11,
   "metadata": {},
   "outputs": [],
   "source": [
    "X_train = normalize(X_train)\n",
    "X_val = normalize(X_val)\n",
    "X_test = normalize(X_test)"
   ]
  },
  {
   "cell_type": "markdown",
   "metadata": {},
   "source": [
    "# Modeling using \"classical\" machine learning models"
   ]
  },
  {
   "cell_type": "markdown",
   "metadata": {},
   "source": [
    "Here we implement some classical ML models from `sklearn`:\n",
    "\n",
    "* Ridge regression\n",
    "* Support vector machine\n",
    "* Linear support vector machine\n",
    "* Random forest\n",
    "* Extra trees\n",
    "* Adaptive boosting\n",
    "* Gradient boosting\n",
    "* k-nearest neighbors\n",
    "* Dummy (if you can't beat this, something is wrong.)\n",
    "\n",
    "Note: the Dummy model types from `sklearn` act as a good sanity check for your ML studies. If your models do not perform significantly better than the equivalent Dummy models, then you should know that something has gone wrong in your model implementation."
   ]
  },
  {
   "cell_type": "code",
   "execution_count": 12,
   "metadata": {},
   "outputs": [],
   "source": [
    "from time import time\n",
    "\n",
    "from sklearn.dummy import DummyRegressor\n",
    "\n",
    "from sklearn.linear_model import Ridge\n",
    "\n",
    "from sklearn.ensemble import AdaBoostRegressor\n",
    "from sklearn.ensemble import GradientBoostingRegressor\n",
    "from sklearn.ensemble import ExtraTreesRegressor\n",
    "from sklearn.ensemble import RandomForestRegressor\n",
    "\n",
    "from sklearn.neighbors import KNeighborsRegressor\n",
    "\n",
    "from sklearn.svm import SVR\n",
    "from sklearn.svm import LinearSVR\n",
    "\n",
    "from sklearn.metrics import r2_score\n",
    "from sklearn.metrics import mean_absolute_error\n",
    "from sklearn.metrics import mean_squared_error"
   ]
  },
  {
   "cell_type": "markdown",
   "metadata": {},
   "source": [
    "In addition, we define some helper functions."
   ]
  },
  {
   "cell_type": "code",
   "execution_count": 3,
   "metadata": {},
   "outputs": [],
   "source": [
    "def instantiate_model(model_name):\n",
    "    model = model_name()\n",
    "    return model\n",
    "\n",
    "def fit_model(model, X_train, y_train):\n",
    "    ti = time()\n",
    "    model = instantiate_model(model)\n",
    "    model.fit(X_train, y_train)\n",
    "    fit_time = time() - ti\n",
    "    return model, fit_time\n",
    "\n",
    "def evaluate_model(model, X, y_act):\n",
    "    y_pred = model.predict(X)\n",
    "    r2 = r2_score(y_act, y_pred)\n",
    "    mae = mean_absolute_error(y_act, y_pred)\n",
    "    rmse_val = mean_squared_error(y_act, y_pred, squared=False)\n",
    "    return r2, mae, rmse_val\n",
    "\n",
    "def fit_evaluate_model(model, model_name, X_train, y_train, X_val, y_act_val):\n",
    "    model, fit_time = fit_model(model, X_train, y_train)\n",
    "    r2_train, mae_train, rmse_train = evaluate_model(model, X_train, y_train)\n",
    "    r2_val, mae_val, rmse_val = evaluate_model(model, X_val, y_act_val)\n",
    "    result_dict = {\n",
    "        'model_name': model_name,\n",
    "        'model_name_pretty': type(model).__name__,\n",
    "        'model_params': model.get_params(),\n",
    "        'fit_time': fit_time,\n",
    "        'r2_train': r2_train,\n",
    "        'mae_train': mae_train,\n",
    "        'rmse_train': rmse_train,\n",
    "        'r2_val': r2_val,\n",
    "        'mae_val': mae_val,\n",
    "        'rmse_val': rmse_val}\n",
    "    return model, result_dict\n",
    "\n",
    "def append_result_df(df, result_dict):\n",
    "    df_result_appended = df.append(result_dict, ignore_index=True)\n",
    "    return df_result_appended\n",
    "\n",
    "def append_model_dict(dic, model_name, model):\n",
    "    dic[model_name] = model\n",
    "    return dic"
   ]
  },
  {
   "cell_type": "markdown",
   "metadata": {},
   "source": [
    "Build an empty DataFrame to store model results:"
   ]
  },
  {
   "cell_type": "code",
   "execution_count": 14,
   "metadata": {},
   "outputs": [
    {
     "data": {
      "text/html": [
       "<div>\n",
       "<style scoped>\n",
       "    .dataframe tbody tr th:only-of-type {\n",
       "        vertical-align: middle;\n",
       "    }\n",
       "\n",
       "    .dataframe tbody tr th {\n",
       "        vertical-align: top;\n",
       "    }\n",
       "\n",
       "    .dataframe thead th {\n",
       "        text-align: right;\n",
       "    }\n",
       "</style>\n",
       "<table border=\"1\" class=\"dataframe\">\n",
       "  <thead>\n",
       "    <tr style=\"text-align: right;\">\n",
       "      <th></th>\n",
       "      <th>model_name</th>\n",
       "      <th>model_name_pretty</th>\n",
       "      <th>model_params</th>\n",
       "      <th>fit_time</th>\n",
       "      <th>r2_train</th>\n",
       "      <th>mae_train</th>\n",
       "      <th>rmse_train</th>\n",
       "      <th>r2_val</th>\n",
       "      <th>mae_val</th>\n",
       "      <th>rmse_val</th>\n",
       "    </tr>\n",
       "  </thead>\n",
       "  <tbody>\n",
       "  </tbody>\n",
       "</table>\n",
       "</div>"
      ],
      "text/plain": [
       "Empty DataFrame\n",
       "Columns: [model_name, model_name_pretty, model_params, fit_time, r2_train, mae_train, rmse_train, r2_val, mae_val, rmse_val]\n",
       "Index: []"
      ]
     },
     "execution_count": 14,
     "metadata": {},
     "output_type": "execute_result"
    }
   ],
   "source": [
    "df_classics = pd.DataFrame(columns=['model_name',\n",
    "                                    'model_name_pretty',\n",
    "                                    'model_params',\n",
    "                                    'fit_time',\n",
    "                                    'r2_train',\n",
    "                                    'mae_train',\n",
    "                                    'rmse_train',\n",
    "                                    'r2_val',\n",
    "                                    'mae_val',\n",
    "                                    'rmse_val'])\n",
    "df_classics"
   ]
  },
  {
   "cell_type": "markdown",
   "metadata": {},
   "source": [
    "## Define the models\n",
    "\n",
    "Here, we instantiate several classical machine learning models for use.\n",
    "For demonstration purposes, we instantiate the models with their default model parameters.\n",
    "\n",
    "Some of the models listed above can perform either regression or classification tasks.\n",
    "Because our ML task is a regression task (prediction of the continuous-valued target, heat capacity), we choose the regression variant of these models.\n",
    "\n",
    "Note: the `DummyRegressor()` instance acts as a good sanity check for your ML studies. If your models do not perform significantly better than the `DummyRegressor()`, then you know something has gone awry."
   ]
  },
  {
   "cell_type": "code",
   "execution_count": 15,
   "metadata": {},
   "outputs": [],
   "source": [
    "# Build a dictionary of model names\n",
    "classic_model_names = OrderedDict({\n",
    "    'dumr': DummyRegressor,\n",
    "    'rr': Ridge,\n",
    "    'abr': AdaBoostRegressor,\n",
    "    'gbr': GradientBoostingRegressor,\n",
    "    'rfr': RandomForestRegressor,\n",
    "    'etr': ExtraTreesRegressor,\n",
    "    'svr': SVR,\n",
    "    'lsvr': LinearSVR,\n",
    "    'knr': KNeighborsRegressor,\n",
    "})"
   ]
  },
  {
   "cell_type": "markdown",
   "metadata": {},
   "source": [
    "## Instantiate and fit the models\n",
    "\n",
    "Now, we can fit the ML models.\n",
    "\n",
    "We will loop through each of the models listed above. For each of the models, we will:\n",
    "* instantiate the model (with default parameters)\n",
    "* fit the model using the training data\n",
    "* use the fitted model to generate predictions from the validation data\n",
    "* evaluate the performance of the model using the predictions\n",
    "* store the results in a DataFrame for analysis\n",
    "\n",
    "Note: this may take several minutes, depending on your hardware/software environment, dataset size and featurization scheme (CBFV)."
   ]
  },
  {
   "cell_type": "code",
   "execution_count": 16,
   "metadata": {},
   "outputs": [
    {
     "name": "stdout",
     "output_type": "stream",
     "text": [
      "Now fitting and evaluating model dumr: DummyRegressor\n",
      "Now fitting and evaluating model rr: Ridge\n",
      "Now fitting and evaluating model abr: AdaBoostRegressor\n",
      "Now fitting and evaluating model gbr: GradientBoostingRegressor\n",
      "Now fitting and evaluating model rfr: RandomForestRegressor\n",
      "Now fitting and evaluating model etr: ExtraTreesRegressor\n",
      "Now fitting and evaluating model svr: SVR\n",
      "Now fitting and evaluating model lsvr: LinearSVR\n",
      "Now fitting and evaluating model knr: KNeighborsRegressor\n",
      "Finished fitting 9 models, total time: 21.38 s\n"
     ]
    }
   ],
   "source": [
    "# Instantiate a dictionary to store the model objects\n",
    "classic_models = OrderedDict()\n",
    "\n",
    "# Keep track of elapsed time\n",
    "ti = time()\n",
    "\n",
    "# Loop through each model type, fit and predict, and evaluate and store results\n",
    "for model_name, model in classic_model_names.items():\n",
    "    print(f'Now fitting and evaluating model {model_name}: {model.__name__}')\n",
    "    model, result_dict = fit_evaluate_model(model, model_name, X_train, y_train, X_val, y_val)\n",
    "    df_classics = append_result_df(df_classics, result_dict)\n",
    "    classic_models = append_model_dict(classic_models, model_name, model)\n",
    "\n",
    "dt = time() - ti\n",
    "print(f'Finished fitting {len(classic_models)} models, total time: {dt:0.2f} s')"
   ]
  },
  {
   "cell_type": "markdown",
   "metadata": {},
   "source": [
    "Now, we can look at the results.\n",
    "\n",
    "You will notice, that some of the models (such as RandomForestRegressor, ExtraTreesRegressor and GradientBoostingRegressor) have completely memorized the training data, as evidenced by the very high r2_train scores of ~1.0."
   ]
  },
  {
   "cell_type": "code",
   "execution_count": 17,
   "metadata": {},
   "outputs": [
    {
     "data": {
      "text/html": [
       "<div>\n",
       "<style scoped>\n",
       "    .dataframe tbody tr th:only-of-type {\n",
       "        vertical-align: middle;\n",
       "    }\n",
       "\n",
       "    .dataframe tbody tr th {\n",
       "        vertical-align: top;\n",
       "    }\n",
       "\n",
       "    .dataframe thead th {\n",
       "        text-align: right;\n",
       "    }\n",
       "</style>\n",
       "<table border=\"1\" class=\"dataframe\">\n",
       "  <thead>\n",
       "    <tr style=\"text-align: right;\">\n",
       "      <th></th>\n",
       "      <th>model_name</th>\n",
       "      <th>model_name_pretty</th>\n",
       "      <th>model_params</th>\n",
       "      <th>fit_time</th>\n",
       "      <th>r2_train</th>\n",
       "      <th>mae_train</th>\n",
       "      <th>rmse_train</th>\n",
       "      <th>r2_val</th>\n",
       "      <th>mae_val</th>\n",
       "      <th>rmse_val</th>\n",
       "    </tr>\n",
       "  </thead>\n",
       "  <tbody>\n",
       "    <tr>\n",
       "      <th>0</th>\n",
       "      <td>dumr</td>\n",
       "      <td>DummyRegressor</td>\n",
       "      <td>{'constant': None, 'quantile': None, 'strategy...</td>\n",
       "      <td>0.000000</td>\n",
       "      <td>0.000000</td>\n",
       "      <td>47.451805</td>\n",
       "      <td>60.600844</td>\n",
       "      <td>-0.000090</td>\n",
       "      <td>52.577391</td>\n",
       "      <td>71.971190</td>\n",
       "    </tr>\n",
       "    <tr>\n",
       "      <th>1</th>\n",
       "      <td>lsvr</td>\n",
       "      <td>LinearSVR</td>\n",
       "      <td>{'C': 1.0, 'dual': True, 'epsilon': 0.0, 'fit_...</td>\n",
       "      <td>0.008975</td>\n",
       "      <td>0.763989</td>\n",
       "      <td>16.961421</td>\n",
       "      <td>29.440492</td>\n",
       "      <td>0.669684</td>\n",
       "      <td>23.150027</td>\n",
       "      <td>41.362197</td>\n",
       "    </tr>\n",
       "    <tr>\n",
       "      <th>2</th>\n",
       "      <td>svr</td>\n",
       "      <td>SVR</td>\n",
       "      <td>{'C': 1.0, 'cache_size': 200, 'coef0': 0.0, 'd...</td>\n",
       "      <td>0.653226</td>\n",
       "      <td>0.763306</td>\n",
       "      <td>16.726278</td>\n",
       "      <td>29.483037</td>\n",
       "      <td>0.671746</td>\n",
       "      <td>24.579489</td>\n",
       "      <td>41.232913</td>\n",
       "    </tr>\n",
       "    <tr>\n",
       "      <th>3</th>\n",
       "      <td>knr</td>\n",
       "      <td>KNeighborsRegressor</td>\n",
       "      <td>{'algorithm': 'auto', 'leaf_size': 30, 'metric...</td>\n",
       "      <td>0.046875</td>\n",
       "      <td>0.981784</td>\n",
       "      <td>3.902671</td>\n",
       "      <td>8.179025</td>\n",
       "      <td>0.779574</td>\n",
       "      <td>23.421180</td>\n",
       "      <td>33.788612</td>\n",
       "    </tr>\n",
       "    <tr>\n",
       "      <th>4</th>\n",
       "      <td>abr</td>\n",
       "      <td>AdaBoostRegressor</td>\n",
       "      <td>{'base_estimator': None, 'learning_rate': 1.0,...</td>\n",
       "      <td>1.740368</td>\n",
       "      <td>0.922253</td>\n",
       "      <td>14.174608</td>\n",
       "      <td>16.897453</td>\n",
       "      <td>0.852797</td>\n",
       "      <td>21.241031</td>\n",
       "      <td>27.612011</td>\n",
       "    </tr>\n",
       "    <tr>\n",
       "      <th>5</th>\n",
       "      <td>rr</td>\n",
       "      <td>Ridge</td>\n",
       "      <td>{'alpha': 1.0, 'copy_X': True, 'fit_intercept'...</td>\n",
       "      <td>0.027902</td>\n",
       "      <td>0.875762</td>\n",
       "      <td>14.425002</td>\n",
       "      <td>21.360213</td>\n",
       "      <td>0.855066</td>\n",
       "      <td>17.412128</td>\n",
       "      <td>27.398312</td>\n",
       "    </tr>\n",
       "    <tr>\n",
       "      <th>6</th>\n",
       "      <td>rfr</td>\n",
       "      <td>RandomForestRegressor</td>\n",
       "      <td>{'bootstrap': True, 'ccp_alpha': 0.0, 'criteri...</td>\n",
       "      <td>8.986937</td>\n",
       "      <td>0.998316</td>\n",
       "      <td>1.216542</td>\n",
       "      <td>2.486749</td>\n",
       "      <td>0.894120</td>\n",
       "      <td>14.900963</td>\n",
       "      <td>23.417814</td>\n",
       "    </tr>\n",
       "    <tr>\n",
       "      <th>7</th>\n",
       "      <td>etr</td>\n",
       "      <td>ExtraTreesRegressor</td>\n",
       "      <td>{'bootstrap': False, 'ccp_alpha': 0.0, 'criter...</td>\n",
       "      <td>4.108041</td>\n",
       "      <td>0.999995</td>\n",
       "      <td>0.010897</td>\n",
       "      <td>0.134942</td>\n",
       "      <td>0.908775</td>\n",
       "      <td>13.654154</td>\n",
       "      <td>21.736814</td>\n",
       "    </tr>\n",
       "    <tr>\n",
       "      <th>8</th>\n",
       "      <td>gbr</td>\n",
       "      <td>GradientBoostingRegressor</td>\n",
       "      <td>{'alpha': 0.9, 'ccp_alpha': 0.0, 'criterion': ...</td>\n",
       "      <td>4.803637</td>\n",
       "      <td>0.985051</td>\n",
       "      <td>5.360182</td>\n",
       "      <td>7.409309</td>\n",
       "      <td>0.913686</td>\n",
       "      <td>13.867573</td>\n",
       "      <td>21.143662</td>\n",
       "    </tr>\n",
       "  </tbody>\n",
       "</table>\n",
       "</div>"
      ],
      "text/plain": [
       "  model_name          model_name_pretty  \\\n",
       "0       dumr             DummyRegressor   \n",
       "1       lsvr                  LinearSVR   \n",
       "2        svr                        SVR   \n",
       "3        knr        KNeighborsRegressor   \n",
       "4        abr          AdaBoostRegressor   \n",
       "5         rr                      Ridge   \n",
       "6        rfr      RandomForestRegressor   \n",
       "7        etr        ExtraTreesRegressor   \n",
       "8        gbr  GradientBoostingRegressor   \n",
       "\n",
       "                                        model_params  fit_time  r2_train  \\\n",
       "0  {'constant': None, 'quantile': None, 'strategy...  0.000000  0.000000   \n",
       "1  {'C': 1.0, 'dual': True, 'epsilon': 0.0, 'fit_...  0.008975  0.763989   \n",
       "2  {'C': 1.0, 'cache_size': 200, 'coef0': 0.0, 'd...  0.653226  0.763306   \n",
       "3  {'algorithm': 'auto', 'leaf_size': 30, 'metric...  0.046875  0.981784   \n",
       "4  {'base_estimator': None, 'learning_rate': 1.0,...  1.740368  0.922253   \n",
       "5  {'alpha': 1.0, 'copy_X': True, 'fit_intercept'...  0.027902  0.875762   \n",
       "6  {'bootstrap': True, 'ccp_alpha': 0.0, 'criteri...  8.986937  0.998316   \n",
       "7  {'bootstrap': False, 'ccp_alpha': 0.0, 'criter...  4.108041  0.999995   \n",
       "8  {'alpha': 0.9, 'ccp_alpha': 0.0, 'criterion': ...  4.803637  0.985051   \n",
       "\n",
       "   mae_train  rmse_train    r2_val    mae_val   rmse_val  \n",
       "0  47.451805   60.600844 -0.000090  52.577391  71.971190  \n",
       "1  16.961421   29.440492  0.669684  23.150027  41.362197  \n",
       "2  16.726278   29.483037  0.671746  24.579489  41.232913  \n",
       "3   3.902671    8.179025  0.779574  23.421180  33.788612  \n",
       "4  14.174608   16.897453  0.852797  21.241031  27.612011  \n",
       "5  14.425002   21.360213  0.855066  17.412128  27.398312  \n",
       "6   1.216542    2.486749  0.894120  14.900963  23.417814  \n",
       "7   0.010897    0.134942  0.908775  13.654154  21.736814  \n",
       "8   5.360182    7.409309  0.913686  13.867573  21.143662  "
      ]
     },
     "execution_count": 17,
     "metadata": {},
     "output_type": "execute_result"
    }
   ],
   "source": [
    "# Sort in order of increasing validation r2 score\n",
    "df_classics = df_classics.sort_values('r2_val', ignore_index=True)\n",
    "df_classics"
   ]
  },
  {
   "cell_type": "markdown",
   "metadata": {},
   "source": [
    "You can now also access the full details of the models by inspecting the `classic_models` dictionary that we populated."
   ]
  },
  {
   "cell_type": "code",
   "execution_count": 18,
   "metadata": {},
   "outputs": [
    {
     "data": {
      "text/plain": [
       "OrderedDict([('dumr',\n",
       "              DummyRegressor(constant=None, quantile=None, strategy='mean')),\n",
       "             ('rr',\n",
       "              Ridge(alpha=1.0, copy_X=True, fit_intercept=True, max_iter=None,\n",
       "                    normalize=False, random_state=None, solver='auto', tol=0.001)),\n",
       "             ('abr',\n",
       "              AdaBoostRegressor(base_estimator=None, learning_rate=1.0, loss='linear',\n",
       "                                n_estimators=50, random_state=None)),\n",
       "             ('gbr',\n",
       "              GradientBoostingRegressor(alpha=0.9, ccp_alpha=0.0, criterion='friedman_mse',\n",
       "                                        init=None, learning_rate=0.1, loss='ls', max_depth=3,\n",
       "                                        max_features=None, max_leaf_nodes=None,\n",
       "                                        min_impurity_decrease=0.0, min_impurity_split=None,\n",
       "                                        min_samples_leaf=1, min_samples_split=2,\n",
       "                                        min_weight_fraction_leaf=0.0, n_estimators=100,\n",
       "                                        n_iter_no_change=None, presort='deprecated',\n",
       "                                        random_state=None, subsample=1.0, tol=0.0001,\n",
       "                                        validation_fraction=0.1, verbose=0, warm_start=False)),\n",
       "             ('rfr',\n",
       "              RandomForestRegressor(bootstrap=True, ccp_alpha=0.0, criterion='mse',\n",
       "                                    max_depth=None, max_features='auto', max_leaf_nodes=None,\n",
       "                                    max_samples=None, min_impurity_decrease=0.0,\n",
       "                                    min_impurity_split=None, min_samples_leaf=1,\n",
       "                                    min_samples_split=2, min_weight_fraction_leaf=0.0,\n",
       "                                    n_estimators=100, n_jobs=None, oob_score=False,\n",
       "                                    random_state=None, verbose=0, warm_start=False)),\n",
       "             ('etr',\n",
       "              ExtraTreesRegressor(bootstrap=False, ccp_alpha=0.0, criterion='mse',\n",
       "                                  max_depth=None, max_features='auto', max_leaf_nodes=None,\n",
       "                                  max_samples=None, min_impurity_decrease=0.0,\n",
       "                                  min_impurity_split=None, min_samples_leaf=1,\n",
       "                                  min_samples_split=2, min_weight_fraction_leaf=0.0,\n",
       "                                  n_estimators=100, n_jobs=None, oob_score=False,\n",
       "                                  random_state=None, verbose=0, warm_start=False)),\n",
       "             ('svr',\n",
       "              SVR(C=1.0, cache_size=200, coef0=0.0, degree=3, epsilon=0.1, gamma='scale',\n",
       "                  kernel='rbf', max_iter=-1, shrinking=True, tol=0.001, verbose=False)),\n",
       "             ('lsvr',\n",
       "              LinearSVR(C=1.0, dual=True, epsilon=0.0, fit_intercept=True,\n",
       "                        intercept_scaling=1.0, loss='epsilon_insensitive', max_iter=1000,\n",
       "                        random_state=None, tol=0.0001, verbose=0)),\n",
       "             ('knr',\n",
       "              KNeighborsRegressor(algorithm='auto', leaf_size=30, metric='minkowski',\n",
       "                                  metric_params=None, n_jobs=None, n_neighbors=5, p=2,\n",
       "                                  weights='uniform'))])"
      ]
     },
     "execution_count": 18,
     "metadata": {},
     "output_type": "execute_result"
    }
   ],
   "source": [
    "classic_models"
   ]
  },
  {
   "cell_type": "markdown",
   "metadata": {},
   "source": [
    "## Evaluating model performance on validation dataset\n",
    "\n",
    "Now comes the time to evaluate the trained models on the validation set.\n",
    "\n",
    "Remember, we use the same validation set to evaluate all models. This ensures a fair comparison.\n",
    "\n",
    "In addition, we plot the predicted vs. actual plots using the predictions made by each trained model on the same validation set."
   ]
  },
  {
   "cell_type": "code",
   "execution_count": 19,
   "metadata": {},
   "outputs": [],
   "source": [
    "def plot_pred_act(act, pred, model, reg_line=True, label=''):\n",
    "    xy_max = np.max([np.max(act), np.max(pred)])\n",
    "\n",
    "    plot = plt.figure(figsize=(6,6))\n",
    "    plt.plot(act, pred, 'o', ms=9, mec='k', mfc='silver', alpha=0.4)\n",
    "    plt.plot([0, xy_max], [0, xy_max], 'k--', label='ideal')\n",
    "    if reg_line:\n",
    "        polyfit = np.polyfit(act, pred, deg=1)\n",
    "        reg_ys = np.poly1d(polyfit)(np.unique(act))\n",
    "        plt.plot(np.unique(act), reg_ys, alpha=0.8, label='linear fit')\n",
    "    plt.axis('scaled')\n",
    "    plt.xlabel(f'Actual {label}')\n",
    "    plt.ylabel(f'Predicted {label}')\n",
    "    plt.title(f'{type(model).__name__}, r2: {r2_score(act, pred):0.4f}')\n",
    "    plt.legend(loc='upper left')\n",
    "    \n",
    "    return plot"
   ]
  },
  {
   "cell_type": "code",
   "execution_count": 4,
   "metadata": {},
   "outputs": [
    {
     "ename": "NameError",
     "evalue": "name 'df_classics' is not defined",
     "output_type": "error",
     "traceback": [
      "\u001b[1;31m---------------------------------------------------------------------------\u001b[0m",
      "\u001b[1;31mNameError\u001b[0m                                 Traceback (most recent call last)",
      "Cell \u001b[1;32mIn[4], line 1\u001b[0m\n\u001b[1;32m----> 1\u001b[0m \u001b[38;5;28;01mfor\u001b[39;00m row \u001b[38;5;129;01min\u001b[39;00m \u001b[38;5;28mrange\u001b[39m(\u001b[43mdf_classics\u001b[49m\u001b[38;5;241m.\u001b[39mshape[\u001b[38;5;241m0\u001b[39m]):\n\u001b[0;32m      2\u001b[0m     model_name \u001b[38;5;241m=\u001b[39m df_classics\u001b[38;5;241m.\u001b[39miloc[row][\u001b[38;5;124m'\u001b[39m\u001b[38;5;124mmodel_name\u001b[39m\u001b[38;5;124m'\u001b[39m]\n\u001b[0;32m      4\u001b[0m     model \u001b[38;5;241m=\u001b[39m classic_models[model_name]\n",
      "\u001b[1;31mNameError\u001b[0m: name 'df_classics' is not defined"
     ]
    }
   ],
   "source": [
    "for row in range(df_classics.shape[0]):\n",
    "    model_name = df_classics.iloc[row]['model_name']\n",
    "\n",
    "    model = classic_models[model_name]\n",
    "    y_act_val = y_val\n",
    "    y_pred_val = model.predict(X_val)\n",
    "\n",
    "    plot = plot_pred_act(y_act_val, y_pred_val, model, reg_line=True, label='$\\mathrm{C}_\\mathrm{p}$ (J / mol K)')"
   ]
  },
  {
   "cell_type": "markdown",
   "metadata": {},
   "source": [
    "## Re-training the best-performing model on combined train + validation dataset\n",
    "\n",
    "After you have finalized your model, you can re-train your model (using the same hyperparameters) again on the combined train + validation datasets, and finally, evaluate your model on the held-out test dataset.\n",
    "\n",
    "By training on the combined train + validation dataset after you have finished tuning your model, you give it more training data, which should lead to an increase in the model performance."
   ]
  },
  {
   "cell_type": "code",
   "execution_count": 21,
   "metadata": {},
   "outputs": [
    {
     "name": "stdout",
     "output_type": "stream",
     "text": [
      "GradientBoostingRegressor(alpha=0.9, ccp_alpha=0.0, criterion='friedman_mse',\n",
      "                          init=None, learning_rate=0.1, loss='ls', max_depth=3,\n",
      "                          max_features=None, max_leaf_nodes=None,\n",
      "                          min_impurity_decrease=0.0, min_impurity_split=None,\n",
      "                          min_samples_leaf=1, min_samples_split=2,\n",
      "                          min_weight_fraction_leaf=0.0, n_estimators=100,\n",
      "                          n_iter_no_change=None, presort='deprecated',\n",
      "                          random_state=None, subsample=1.0, tol=0.0001,\n",
      "                          validation_fraction=0.1, verbose=0, warm_start=False)\n"
     ]
    }
   ],
   "source": [
    "# Find the best-performing model that we have tested\n",
    "best_row = df_classics.iloc[-1, :].copy()\n",
    "\n",
    "# Get the model type and model parameters\n",
    "model_name = best_row['model_name']\n",
    "model_params = best_row['model_params']\n",
    "\n",
    "# Instantiate the model again using the parameters\n",
    "model = classic_model_names[model_name](**model_params)\n",
    "print(model)"
   ]
  },
  {
   "cell_type": "code",
   "execution_count": 22,
   "metadata": {},
   "outputs": [
    {
     "name": "stdout",
     "output_type": "stream",
     "text": [
      "(2200, 177)\n"
     ]
    }
   ],
   "source": [
    "# Concatenate the train and validation datasets together\n",
    "X_train_new = np.concatenate((X_train, X_val), axis=0)\n",
    "y_train_new = pd.concat((y_train, y_val), axis=0)\n",
    "\n",
    "print(X_train_new.shape)"
   ]
  },
  {
   "cell_type": "markdown",
   "metadata": {},
   "source": [
    "Finally, we can fit the model on the combined train + validation dataset."
   ]
  },
  {
   "cell_type": "code",
   "execution_count": 23,
   "metadata": {},
   "outputs": [
    {
     "name": "stdout",
     "output_type": "stream",
     "text": [
      "Finished fitting best model, total time: 5.44 s\n"
     ]
    }
   ],
   "source": [
    "ti = time()\n",
    "\n",
    "model.fit(X_train_new, y_train_new)\n",
    "\n",
    "dt = time() - ti\n",
    "print(f'Finished fitting best model, total time: {dt:0.2f} s')"
   ]
  },
  {
   "cell_type": "markdown",
   "metadata": {},
   "source": [
    "## Testing the re-trained model on the test dataset\n",
    "\n",
    "After re-fitting the best model on the train+validation dataset, you can finally test it on the test dataset.\n",
    "**Remember:** you should only do this *once!*"
   ]
  },
  {
   "cell_type": "code",
   "execution_count": 24,
   "metadata": {},
   "outputs": [
    {
     "name": "stdout",
     "output_type": "stream",
     "text": [
      "r2: 0.8442\n",
      "mae: 17.1236\n",
      "rmse: 31.0274\n"
     ]
    },
    {
     "data": {
      "image/png": "[encoded data removed]",
      "text/plain": [
       "<Figure size 432x432 with 1 Axes>"
      ]
     },
     "metadata": {
      "image/png": {
       "height": 389,
       "width": 383
      },
      "needs_background": "light"
     },
     "output_type": "display_data"
    }
   ],
   "source": [
    "y_act_test = y_test\n",
    "y_pred_test = model.predict(X_test)\n",
    "\n",
    "r2, mae, rmse = evaluate_model(model, X_test, y_test)\n",
    "print(f'r2: {r2:0.4f}')\n",
    "print(f'mae: {mae:0.4f}')\n",
    "print(f'rmse: {rmse:0.4f}')\n",
    "\n",
    "plot = plot_pred_act(y_act_test, y_pred_test, model, reg_line=True, label='$\\mathrm{C}_\\mathrm{p}$ (J / mol K)')"
   ]
  },
  {
   "cell_type": "markdown",
   "metadata": {},
   "source": [
    "We see that our model achieves decent performance on the held-out test dataset."
   ]
  },
  {
   "cell_type": "markdown",
   "metadata": {},
   "source": [
    "# Effect of train/validation/test dataset split\n",
    "\n",
    "Using different train/validation/test splits can dramatically affect your model performance, even for classical ML models.\n",
    "\n",
    "Here, we provide a little demonstration."
   ]
  },
  {
   "cell_type": "code",
   "execution_count": 25,
   "metadata": {},
   "outputs": [
    {
     "name": "stderr",
     "output_type": "stream",
     "text": [
      "Processing Input Data: 100%|████████████████████████████████████████████████████| 3214/3214 [00:00<00:00, 28511.32it/s]\n",
      "Assigning Features...: 100%|████████████████████████████████████████████████████| 3214/3214 [00:00<00:00, 22850.93it/s]\n"
     ]
    },
    {
     "name": "stdout",
     "output_type": "stream",
     "text": [
      "\tFeaturizing Compositions...\n",
      "\tCreating Pandas Objects...\n"
     ]
    },
    {
     "name": "stderr",
     "output_type": "stream",
     "text": [
      "Processing Input Data: 100%|██████████████████████████████████████████████████████| 980/980 [00:00<00:00, 28877.87it/s]\n",
      "Assigning Features...: 100%|██████████████████████████████████████████████████████| 980/980 [00:00<00:00, 29644.50it/s]\n",
      "Processing Input Data: 100%|██████████████████████████████████████████████████████| 370/370 [00:00<00:00, 23672.78it/s]\n",
      "Assigning Features...: 100%|██████████████████████████████████████████████████████| 370/370 [00:00<00:00, 18795.10it/s]"
     ]
    },
    {
     "name": "stdout",
     "output_type": "stream",
     "text": [
      "\tFeaturizing Compositions...\n",
      "\tCreating Pandas Objects...\n",
      "\tFeaturizing Compositions...\n",
      "\tCreating Pandas Objects...\n"
     ]
    },
    {
     "name": "stderr",
     "output_type": "stream",
     "text": [
      "\n"
     ]
    }
   ],
   "source": [
    "X_train_unscaled, y_train, formulae_train, skipped_train = generate_features(df_train, elem_prop='oliynyk', drop_duplicates=False, extend_features=True, sum_feat=True)\n",
    "X_val_unscaled, y_val, formulae_val, skipped_val = generate_features(df_val, elem_prop='oliynyk', drop_duplicates=False, extend_features=True, sum_feat=True)\n",
    "X_test_unscaled, y_test, formulae_test, skipped_test = generate_features(df_test, elem_prop='oliynyk', drop_duplicates=False, extend_features=True, sum_feat=True)"
   ]
  },
  {
   "cell_type": "code",
   "execution_count": 26,
   "metadata": {},
   "outputs": [],
   "source": [
    "X_train_original = X_train_unscaled.copy()\n",
    "X_val = X_val_unscaled.copy()\n",
    "X_test = X_test_unscaled.copy()\n",
    "\n",
    "y_train_original = y_train.copy()"
   ]
  },
  {
   "cell_type": "markdown",
   "metadata": {},
   "source": [
    "We sample the training data using 10 random seeds, by using the `DataFrame.sample()` method with seeds ranging from 0 to 9.\n",
    "We then fit 10 models, each on one of the random splits, and evaluate their performance on the same validation dataset."
   ]
  },
  {
   "cell_type": "code",
   "execution_count": 27,
   "metadata": {},
   "outputs": [
    {
     "name": "stdout",
     "output_type": "stream",
     "text": [
      "Fitting and evaluating random split 0\n",
      "Fitting and evaluating random split 1\n",
      "Fitting and evaluating random split 2\n",
      "Fitting and evaluating random split 3\n",
      "Fitting and evaluating random split 4\n",
      "Fitting and evaluating random split 5\n",
      "Fitting and evaluating random split 6\n",
      "Fitting and evaluating random split 7\n",
      "Fitting and evaluating random split 8\n",
      "Fitting and evaluating random split 9\n"
     ]
    }
   ],
   "source": [
    "splits = range(10)\n",
    "df_splits = pd.DataFrame(columns=['split',\n",
    "                                  'r2_train',\n",
    "                                  'mae_train',\n",
    "                                  'rmse_train',\n",
    "                                  'r2_val',\n",
    "                                  'mae_val',\n",
    "                                  'rmse_val'])\n",
    "\n",
    "for split in splits:\n",
    "    print(f'Fitting and evaluating random split {split}')\n",
    "    X_train = X_train_original.sample(frac=0.7, random_state=split)\n",
    "    y_train = y_train_original[X_train.index]\n",
    "\n",
    "    scaler = StandardScaler()\n",
    "    X_train = normalize(scaler.fit_transform(X_train))\n",
    "    X_val = normalize(scaler.transform(X_val_unscaled))\n",
    "    X_test = normalize(scaler.transform(X_test_unscaled))\n",
    "    \n",
    "    model = AdaBoostRegressor()\n",
    "    model.fit(X_train, y_train)\n",
    "    y_act_val = y_val\n",
    "    y_pred_val = model.predict(X_val)\n",
    "\n",
    "    r2_train, mae_train, rmse_train = evaluate_model(model, X_train, y_train)\n",
    "    r2_val, mae_val, rmse_val = evaluate_model(model, X_val, y_val)\n",
    "    result_dict = {\n",
    "        'split': split,\n",
    "        'r2_train': r2_train,\n",
    "        'mae_train': mae_train,\n",
    "        'rmse_train': rmse_train,\n",
    "        'r2_val': r2_val,\n",
    "        'mae_val': mae_val,\n",
    "        'rmse_val': rmse_val}\n",
    "    \n",
    "    df_splits = append_result_df(df_splits, result_dict)"
   ]
  },
  {
   "cell_type": "code",
   "execution_count": 28,
   "metadata": {},
   "outputs": [
    {
     "data": {
      "text/html": [
       "<div>\n",
       "<style scoped>\n",
       "    .dataframe tbody tr th:only-of-type {\n",
       "        vertical-align: middle;\n",
       "    }\n",
       "\n",
       "    .dataframe tbody tr th {\n",
       "        vertical-align: top;\n",
       "    }\n",
       "\n",
       "    .dataframe thead th {\n",
       "        text-align: right;\n",
       "    }\n",
       "</style>\n",
       "<table border=\"1\" class=\"dataframe\">\n",
       "  <thead>\n",
       "    <tr style=\"text-align: right;\">\n",
       "      <th></th>\n",
       "      <th>split</th>\n",
       "      <th>r2_train</th>\n",
       "      <th>mae_train</th>\n",
       "      <th>rmse_train</th>\n",
       "      <th>r2_val</th>\n",
       "      <th>mae_val</th>\n",
       "      <th>rmse_val</th>\n",
       "    </tr>\n",
       "  </thead>\n",
       "  <tbody>\n",
       "    <tr>\n",
       "      <th>0</th>\n",
       "      <td>0</td>\n",
       "      <td>0.921647</td>\n",
       "      <td>14.237594</td>\n",
       "      <td>16.979393</td>\n",
       "      <td>0.815858</td>\n",
       "      <td>23.865538</td>\n",
       "      <td>34.461629</td>\n",
       "    </tr>\n",
       "    <tr>\n",
       "      <th>1</th>\n",
       "      <td>1</td>\n",
       "      <td>0.927656</td>\n",
       "      <td>13.501629</td>\n",
       "      <td>16.265329</td>\n",
       "      <td>0.808852</td>\n",
       "      <td>22.688912</td>\n",
       "      <td>35.111086</td>\n",
       "    </tr>\n",
       "    <tr>\n",
       "      <th>2</th>\n",
       "      <td>2</td>\n",
       "      <td>0.922515</td>\n",
       "      <td>14.448165</td>\n",
       "      <td>17.079006</td>\n",
       "      <td>0.817551</td>\n",
       "      <td>23.744004</td>\n",
       "      <td>34.302802</td>\n",
       "    </tr>\n",
       "    <tr>\n",
       "      <th>3</th>\n",
       "      <td>3</td>\n",
       "      <td>0.926511</td>\n",
       "      <td>13.651451</td>\n",
       "      <td>16.537507</td>\n",
       "      <td>0.831742</td>\n",
       "      <td>20.315320</td>\n",
       "      <td>32.941742</td>\n",
       "    </tr>\n",
       "    <tr>\n",
       "      <th>4</th>\n",
       "      <td>4</td>\n",
       "      <td>0.924336</td>\n",
       "      <td>13.983030</td>\n",
       "      <td>16.703454</td>\n",
       "      <td>0.822637</td>\n",
       "      <td>22.490512</td>\n",
       "      <td>33.821357</td>\n",
       "    </tr>\n",
       "    <tr>\n",
       "      <th>5</th>\n",
       "      <td>5</td>\n",
       "      <td>0.925542</td>\n",
       "      <td>13.714406</td>\n",
       "      <td>16.610536</td>\n",
       "      <td>0.811329</td>\n",
       "      <td>23.408679</td>\n",
       "      <td>34.882859</td>\n",
       "    </tr>\n",
       "    <tr>\n",
       "      <th>6</th>\n",
       "      <td>6</td>\n",
       "      <td>0.927083</td>\n",
       "      <td>13.872571</td>\n",
       "      <td>16.567055</td>\n",
       "      <td>0.818648</td>\n",
       "      <td>23.621438</td>\n",
       "      <td>34.199530</td>\n",
       "    </tr>\n",
       "    <tr>\n",
       "      <th>7</th>\n",
       "      <td>7</td>\n",
       "      <td>0.921361</td>\n",
       "      <td>14.275176</td>\n",
       "      <td>16.893382</td>\n",
       "      <td>0.823097</td>\n",
       "      <td>23.931573</td>\n",
       "      <td>33.777476</td>\n",
       "    </tr>\n",
       "    <tr>\n",
       "      <th>8</th>\n",
       "      <td>8</td>\n",
       "      <td>0.918063</td>\n",
       "      <td>14.508259</td>\n",
       "      <td>17.281824</td>\n",
       "      <td>0.824275</td>\n",
       "      <td>23.186429</td>\n",
       "      <td>33.664755</td>\n",
       "    </tr>\n",
       "    <tr>\n",
       "      <th>9</th>\n",
       "      <td>9</td>\n",
       "      <td>0.919256</td>\n",
       "      <td>14.204361</td>\n",
       "      <td>16.984472</td>\n",
       "      <td>0.824302</td>\n",
       "      <td>23.008472</td>\n",
       "      <td>33.662190</td>\n",
       "    </tr>\n",
       "  </tbody>\n",
       "</table>\n",
       "</div>"
      ],
      "text/plain": [
       "   split  r2_train  mae_train  rmse_train    r2_val    mae_val   rmse_val\n",
       "0      0  0.921647  14.237594   16.979393  0.815858  23.865538  34.461629\n",
       "1      1  0.927656  13.501629   16.265329  0.808852  22.688912  35.111086\n",
       "2      2  0.922515  14.448165   17.079006  0.817551  23.744004  34.302802\n",
       "3      3  0.926511  13.651451   16.537507  0.831742  20.315320  32.941742\n",
       "4      4  0.924336  13.983030   16.703454  0.822637  22.490512  33.821357\n",
       "5      5  0.925542  13.714406   16.610536  0.811329  23.408679  34.882859\n",
       "6      6  0.927083  13.872571   16.567055  0.818648  23.621438  34.199530\n",
       "7      7  0.921361  14.275176   16.893382  0.823097  23.931573  33.777476\n",
       "8      8  0.918063  14.508259   17.281824  0.824275  23.186429  33.664755\n",
       "9      9  0.919256  14.204361   16.984472  0.824302  23.008472  33.662190"
      ]
     },
     "execution_count": 28,
     "metadata": {},
     "output_type": "execute_result"
    }
   ],
   "source": [
    "df_splits['split'] = df_splits['split'].astype(int)\n",
    "df_splits"
   ]
  },
  {
   "cell_type": "markdown",
   "metadata": {},
   "source": [
    "We then plot the train and validation $r^2$ scores for each of the 10 models.\n",
    "\n",
    "Note the high variability in the r2_val score. In contrast, the variability in the r2_train score is comparatively lower."
   ]
  },
  {
   "cell_type": "code",
   "execution_count": 29,
   "metadata": {},
   "outputs": [
    {
     "data": {
      "image/png": "[encoded data removed]",
      "text/plain": [
       "<Figure size 432x288 with 1 Axes>"
      ]
     },
     "metadata": {
      "image/png": {
       "height": 288,
       "width": 387
      },
      "needs_background": "light"
     },
     "output_type": "display_data"
    }
   ],
   "source": [
    "df_splits.plot('split', ['r2_train', 'r2_val'], kind='bar')\n",
    "plt.title(f'Performance of {type(model).__name__}\\nwith {len(splits)} different data splits')\n",
    "plt.ylim((0.5, 1.0))\n",
    "plt.ylabel('$r^2$')\n",
    "plt.xlabel('Split #')\n",
    "plt.legend(loc='lower right', framealpha=0.9)\n",
    "plt.show()"
   ]
  },
  {
   "cell_type": "markdown",
   "metadata": {},
   "source": [
    "This effect is even more pronounced when we plot the mean abolute error (MAE)."
   ]
  },
  {
   "cell_type": "code",
   "execution_count": 30,
   "metadata": {},
   "outputs": [
    {
     "data": {
      "image/png": "[encoded data removed]",
      "text/plain": [
       "<Figure size 432x288 with 1 Axes>"
      ]
     },
     "metadata": {
      "image/png": {
       "height": 288,
       "width": 385
      },
      "needs_background": "light"
     },
     "output_type": "display_data"
    }
   ],
   "source": [
    "df_splits.plot('split', ['mae_train', 'mae_val'], kind='bar')\n",
    "plt.title(f'Performance of {type(model).__name__}\\nwith {len(splits)} different data splits')\n",
    "plt.ylabel('MAE in $\\mathrm{C}_\\mathrm{p}$ (J / mol K)')\n",
    "plt.xlabel('Split #')\n",
    "plt.legend(loc='lower right', framealpha=0.9)\n",
    "plt.show()"
   ]
  },
  {
   "cell_type": "markdown",
   "metadata": {},
   "source": [
    "Therefore, typically the average value of all the scores are reported, as this gives a much more accurate estimate of how well the model actually performs."
   ]
  },
  {
   "cell_type": "code",
   "execution_count": 31,
   "metadata": {},
   "outputs": [
    {
     "name": "stdout",
     "output_type": "stream",
     "text": [
      "Average validation r2: 0.8198\n",
      "Average validation MAE: 23.0261\n"
     ]
    }
   ],
   "source": [
    "avg_r2_val = df_splits['r2_val'].mean()\n",
    "avg_mae_val = df_splits['mae_val'].mean()\n",
    "\n",
    "print(f'Average validation r2: {avg_r2_val:0.4f}')\n",
    "print(f'Average validation MAE: {avg_mae_val:0.4f}')"
   ]
  }
 ],
 "metadata": {
  "kernelspec": {
   "display_name": "Python 3",
   "language": "python",
   "name": "python3"
  },
  "language_info": {
   "codemirror_mode": {
    "name": "ipython",
    "version": 3
   },
   "file_extension": ".py",
   "mimetype": "text/x-python",
   "name": "python",
   "nbconvert_exporter": "python",
   "pygments_lexer": "ipython3",
   "version": "3.10.13"
  }
 },
 "nbformat": 4,
 "nbformat_minor": 4
}
