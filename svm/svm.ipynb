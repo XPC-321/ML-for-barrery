{
 "cells": [
  {
   "cell_type": "code",
   "execution_count": 2,
   "metadata": {},
   "outputs": [],
   "source": [
    "import numpy as np\n",
    "from sklearn.svm import SVR\n",
    "import matplotlib.pyplot as plt\n",
    "import pandas as pd"
   ]
  },
  {
   "cell_type": "code",
   "execution_count": 36,
   "metadata": {},
   "outputs": [
    {
     "name": "stdout",
     "output_type": "stream",
     "text": [
      "0   -1612.147960\n",
      "1   -1954.635879\n",
      "2   -2297.122785\n",
      "3   -1533.492751\n",
      "4   -1875.959701\n",
      "Name: E(Hatree), dtype: float64\n"
     ]
    }
   ],
   "source": [
    "df = pd.read_excel(\"solvent structure of Na+.xlsx\",sheet_name=\"Na-EC-1X\")           #pandas读完后直接转换成dataframe\n",
    "x = df['E(Hatree)']\n",
    "y = list(df['LUMO'])\n",
    "print(x.head())"
   ]
  },
  {
   "cell_type": "code",
   "execution_count": null,
   "metadata": {},
   "outputs": [],
   "source": [
    "from pymatgen.core.composition import composition\n",
    "\n",
    "comp = [Composition(LUMO) for LUMO in x]\n",
    "print(Comp[0].average_electroneg)\n",
    "\n",
    "feature = [each.averae_electroneg for each in comp]"
   ]
  },
  {
   "cell_type": "code",
   "execution_count": 38,
   "metadata": {},
   "outputs": [],
   "source": [
    "feature = [x]\n",
    "svr_rbf = SVR(kernel=\"rbf\",C=100,gamma=0.1,epsilon=0.1)\n",
    "svr_lin = SVR(kernel=\"linear\",C=100,gamma=\"auto\")\n",
    "svr_poly = SVR(kernel=\"poly\",C=100,gamma=\"auto\",degree=3,epsilon=0.1,coef0=1)\n",
    "#to train a model\n",
    "X = np.array(feature).reshape(-1,1)\n",
    "model = svr_rbf.fit(X,y)                                                        #训练结果放在model里"
   ]
  },
  {
   "cell_type": "code",
   "execution_count": 53,
   "metadata": {},
   "outputs": [
    {
     "name": "stdout",
     "output_type": "stream",
     "text": [
      "SVR(C=100, gamma=0.1)\n",
      "[-0.0323 -0.0323 -0.0323 -0.0323 -0.0323 -0.0323 -0.0323 -0.0323 -0.0323\n",
      " -0.0323 -0.0323 -0.0323 -0.0323 -0.0323 -0.0323 -0.0323 -0.0323 -0.0323\n",
      " -0.0323]\n"
     ]
    }
   ],
   "source": [
    "print(model)\n",
    "######prediction\n",
    "Y_pred = model.predict(x)\n",
    "print(Y_pred)\n"
   ]
  },
  {
   "cell_type": "code",
   "execution_count": 54,
   "metadata": {},
   "outputs": [
    {
     "ename": "SyntaxError",
     "evalue": "positional argument follows keyword argument (506580137.py, line 38)",
     "output_type": "error",
     "traceback": [
      "\u001b[1;36m  Cell \u001b[1;32mIn[54], line 38\u001b[1;36m\u001b[0m\n\u001b[1;33m    )\u001b[0m\n\u001b[1;37m    ^\u001b[0m\n\u001b[1;31mSyntaxError\u001b[0m\u001b[1;31m:\u001b[0m positional argument follows keyword argument\n"
     ]
    }
   ],
   "source": [
    "###作图比较\n",
    "lw = 2\n",
    "svrs = [svr_rbf,svr_lin,svr_poly]\n",
    "kernel_label = [\"RBF\",\"Linear\",\"Polynomial\"]\n",
    "model_color = [\"m\",\"c\",\"g\"]\n",
    "\n",
    "fig,axes = plt.subplots(nrows=1, ncols=3,figsize=(15,10),sharey=True)           #kernel 为作用矩阵，类似于filter，可以来降维\n",
    "for ix, svr in enumerate(svrs):\n",
    "    axes[ix].plot(\n",
    "        x,\n",
    "        svr.fit(X,y).predict(x),\n",
    "        color = model_color[ix],\n",
    "        lw=lw,\n",
    "        label=\"{}model\".format(kernel_label[ix]),\n",
    "    )\n",
    "    axes[ix].scatter(\n",
    "    x[svr.support_],\n",
    "    y[svr.support_],\n",
    "    facecolor=\"none\",\n",
    "    edgecolor=model_color[ix],\n",
    "    s=50,\n",
    "    label=\"{} support vectors\".format(kernel_label[ix]),\n",
    "    )\n",
    "    axes[ix].scatter(\n",
    "        x[np.setdiff1d(np.arrande(len(x)),svr.support_)],\n",
    "        y[np.setdiff1d(np.arrande(len(x)),svr.support_)],\n",
    "        facecolor=\"none\",\n",
    "        edgecolor=\"k\",\n",
    "        s=50,\n",
    "        label=\"other training data\",\n",
    "    )\n",
    "    axes[ix].legend(\n",
    "        loc=\"upper center\",\n",
    "        bbox_to_anchor(0.5,1.1),\n",
    "        ncol=1,\n",
    "        fancybox=True,\n",
    "        shadow=True\n",
    "        )\n",
    "\n",
    "fig.text(0.5,0.04,\"data\",ha=\"center\",va=\"center\")\n",
    "fig.text(0.06,0.5,\"target\",ha=\"center\",va=\"center\",rotation=\"vertical\")\n",
    "fig.suptitle(\"support vector regression\",fontsize=14)\n",
    "plt.show()"
   ]
  },
  {
   "cell_type": "markdown",
   "metadata": {},
   "source": [
    "svr命名由来：2维寻找超平面是线，三维是平面，高维的分类边界就是超平面。\n",
    "rbf中间是gaussian的kernel"
   ]
  }
 ],
 "metadata": {
  "kernelspec": {
   "display_name": "AIforML",
   "language": "python",
   "name": "python3"
  },
  "language_info": {
   "codemirror_mode": {
    "name": "ipython",
    "version": 3
   },
   "file_extension": ".py",
   "mimetype": "text/x-python",
   "name": "python",
   "nbconvert_exporter": "python",
   "pygments_lexer": "ipython3",
   "version": "3.10.13"
  }
 },
 "nbformat": 4,
 "nbformat_minor": 2
}
