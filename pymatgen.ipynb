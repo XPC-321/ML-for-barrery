{
 "cells": [
  {
   "cell_type": "code",
   "execution_count": 1,
   "metadata": {},
   "outputs": [
    {
     "name": "stdout",
     "output_type": "stream",
     "text": [
      "2023.12.18\n"
     ]
    }
   ],
   "source": [
    "import pymatgen.core \n",
    "print(pymatgen.core.__version__)"
   ]
  },
  {
   "cell_type": "code",
   "execution_count": 4,
   "metadata": {},
   "outputs": [
    {
     "ename": "AttributeError",
     "evalue": "type object 'Lattice' has no attribute 'from_parameter'",
     "output_type": "error",
     "traceback": [
      "\u001b[1;31m---------------------------------------------------------------------------\u001b[0m",
      "\u001b[1;31mAttributeError\u001b[0m                            Traceback (most recent call last)",
      "Cell \u001b[1;32mIn[4], line 4\u001b[0m\n\u001b[0;32m      1\u001b[0m \u001b[38;5;28;01mfrom\u001b[39;00m \u001b[38;5;21;01mpymatgen\u001b[39;00m\u001b[38;5;21;01m.\u001b[39;00m\u001b[38;5;21;01mcore\u001b[39;00m \u001b[38;5;28;01mimport\u001b[39;00m Lattice, Structure, Molecule\n\u001b[0;32m      3\u001b[0m coords \u001b[38;5;241m=\u001b[39m [\u001b[38;5;241m0\u001b[39m,\u001b[38;5;241m0\u001b[39m,\u001b[38;5;241m0\u001b[39m], [\u001b[38;5;241m0.75\u001b[39m, \u001b[38;5;241m0.75\u001b[39m, \u001b[38;5;241m0.75\u001b[39m]\n\u001b[1;32m----> 4\u001b[0m lattice \u001b[38;5;241m=\u001b[39m \u001b[43mLattice\u001b[49m\u001b[38;5;241;43m.\u001b[39;49m\u001b[43mfrom_parameter\u001b[49m(a\u001b[38;5;241m=\u001b[39m\u001b[38;5;241m3\u001b[39m, b\u001b[38;5;241m=\u001b[39m\u001b[38;5;241m3.84\u001b[39m, c\u001b[38;5;241m=\u001b[39m\u001b[38;5;241m3.84\u001b[39m, alpha\u001b[38;5;241m=\u001b[39m\u001b[38;5;241m120\u001b[39m,beta\u001b[38;5;241m=\u001b[39m\u001b[38;5;241m90\u001b[39m, gamma\u001b[38;5;241m=\u001b[39m\u001b[38;5;241m60\u001b[39m)\n",
      "\u001b[1;31mAttributeError\u001b[0m: type object 'Lattice' has no attribute 'from_parameter'"
     ]
    }
   ],
   "source": [
    "from pymatgen.core import Lattice, Structure, Molecule\n",
    "\n",
    "coords = [0,0,0], [0.75, 0.75, 0.75]\n",
    "lattice = Lattice.from_parameter(a=3, b=3.84, c=3.84, alpha=120,beta=90, gamma=60)"
   ]
  }
 ],
 "metadata": {
  "kernelspec": {
   "display_name": "Python 3",
   "language": "python",
   "name": "python3"
  },
  "language_info": {
   "codemirror_mode": {
    "name": "ipython",
    "version": 3
   },
   "file_extension": ".py",
   "mimetype": "text/x-python",
   "name": "python",
   "nbconvert_exporter": "python",
   "pygments_lexer": "ipython3",
   "version": "3.10.13"
  }
 },
 "nbformat": 4,
 "nbformat_minor": 2
}
